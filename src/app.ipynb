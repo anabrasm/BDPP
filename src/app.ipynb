{
 "cells": [
  {
   "cell_type": "code",
   "execution_count": null,
   "metadata": {},
   "outputs": [],
   "source": [
    "import pandas as pd\n",
    "import numpy as np\n",
    "import feather\n",
    "import statsmodels.formula.api as smf\n",
    "from statsmodels.iolib.summary2 import summary_col\n",
    "import seaborn as sns\n",
    "import matplotlib.pyplot as plt\n",
    "import os\n",
    "import altair as alt\n",
    "from pathlib import Path"
   ]
  },
  {
   "attachments": {},
   "cell_type": "markdown",
   "metadata": {},
   "source": [
    "## Import data "
   ]
  },
  {
   "cell_type": "code",
   "execution_count": null,
   "metadata": {},
   "outputs": [],
   "source": [
    "datadir = \"/mnt/PATSTAT/Solar/out/data\"\n",
    "figuredir = \"/mnt/PATSTAT/Solar/out/figures\"\n",
    "Path(figuredir).mkdir(parents=True, exist_ok=True) # Create if doesn't exist"
   ]
  },
  {
   "cell_type": "code",
   "execution_count": null,
   "metadata": {},
   "outputs": [],
   "source": [
    "os.chdir(datadir)\n",
    "patents_df = pd.read_feather(\"solar_dataset_all_renewables\") \n",
    "patents_df.head()"
   ]
  },
  {
   "cell_type": "code",
   "execution_count": null,
   "metadata": {},
   "outputs": [],
   "source": [
    "patents_df[\"country_code\"] = patents_df['person_ctry_code']\n",
    "# patents_df[\"country_code\"] = patents_df[\"appln_auth\"] # cover all observations but assign the authority country not the innovator country. This mostly concerns Chinese authority applications. "
   ]
  },
  {
   "cell_type": "code",
   "execution_count": null,
   "metadata": {},
   "outputs": [],
   "source": [
    "# Classify patents as fossil fuel or solar DO SAME FOR ALL RENEWABLES \n",
    "\n",
    "patents_df.loc[patents_df[\"cpc_class_symbol\"].str.startswith(\"Y02E10/5\", na=False), 'cpc_solar'] = 1\n",
    "patents_df.loc[~patents_df[\"cpc_class_symbol\"].str.startswith(\"Y02E10/5\", na=False), 'cpc_solar'] = 0\n",
    "patents_df.loc[patents_df[\"ipc_class_symbol\"].str.startswith(\"H02S\", na=False), 'ipc_solar'] = 1\n",
    "patents_df.loc[~patents_df[\"ipc_class_symbol\"].str.startswith(\"H02S\", na=False), 'ipc_solar'] = 0\n",
    "patents_df.loc[patents_df[\"ipc_class_symbol\"].str.startswith(\"H02S\", na=False) | patents_df[\"cpc_class_symbol\"].str.startswith(\"Y02E10/5\", na=False), 'mix_solar'] = 1 \n",
    "patents_df.loc[~(patents_df[\"ipc_class_symbol\"].str.startswith(\"H02S\", na=False) | patents_df[\"cpc_class_symbol\"].str.startswith(\"Y02E10/5\", na=False)), 'mix_solar'] = 0"
   ]
  },
  {
   "attachments": {},
   "cell_type": "markdown",
   "metadata": {},
   "source": [
    "## Count patents "
   ]
  },
  {
   "attachments": {},
   "cell_type": "markdown",
   "metadata": {},
   "source": [
    "### Absolute count ###\n",
    "\n",
    "def absolute_count(df, code):\n",
    "    global North\n",
    "\n",
    "    ## fossil fuel ##\n",
    "    solar_year = df[df.fossil_fuel == 1].groupby('earliest_filing_year')['docdb_family_id'].nunique().to_frame(name = \"Nb_ff_energy_innov_per_year\") # Transform the series that groupby creates to a dataframe\n",
    "    solar_year[\"Nb_ff_energy_app_per_year\"] = df[df.fossil_fuel == 1].groupby('earliest_filing_year')['appln_id'].nunique()\n",
    "\n",
    "    # countries #\n",
    "    dict = {} \n",
    "    for country in list_country:\n",
    "        name = \"Nb_ff_energy_innov_per_year_\" + country\n",
    "        value = df[(df.fossil_fuel == 1) & (df.country_code == country)].groupby('earliest_filing_year')['docdb_family_id'].nunique() \n",
    "        dict[\"Nb_ff_energy_innov_per_year_\" + country] = value\n",
    "        solar_year[name] = dict[name] \n",
    "\n",
    "    # \"north\" countries #\n",
    "    column_ff_names_North = []\n",
    "    North = [x for x in list_country if x != 'CN']\n",
    "    for country in North :\n",
    "        name = \"Nb_ff_energy_innov_per_year_\" + country\n",
    "        column_ff_names_North.append(name)\n",
    "    solar_year['Nb_ff_energy_innov_per_year_North']= solar_year[column_ff_names_North].sum(axis=1)\n",
    "\n",
    "\n",
    "    ## Solar panel ##\n",
    "    classification = code + \"_solar\"\n",
    "    solar_year[\"Nb_solar_energy_innov_per_year\"] = df[df[classification] == 1].groupby('earliest_filing_year')['docdb_family_id'].nunique()\n",
    "    solar_year[\"Nb_solar_energy_app_per_year\"] = df[df[classification] == 1].groupby('earliest_filing_year')['appln_id'].nunique()\n",
    "\n",
    "    # countries #\n",
    "    # by family\n",
    "    dict = {} \n",
    "    for country in list_country:\n",
    "        name = \"Nb_solar_energy_innov_per_year_\" + country\n",
    "        value = df[(df[classification] == 1) & (df.country_code == country)].groupby('earliest_filing_year')['docdb_family_id'].nunique()\n",
    "        dict[\"Nb_solar_energy_innov_per_year_\" + country] = value\n",
    "        solar_year[name] = dict[name] \n",
    "\n",
    "    # by application\n",
    "    dict1 = {} \n",
    "    for country in list_country:\n",
    "        name = \"Nb_solar_energy_app_per_year_\" + country\n",
    "        value = df[(df[classification] == 1) & (df.country_code == country)].groupby('earliest_filing_year')['appln_id'].nunique()\n",
    "        dict1[\"Nb_solar_energy_app_per_year_\" + country] = value\n",
    "        solar_year[name] = dict1[name] \n",
    "\n",
    "    # \"north\" countries #\n",
    "    column_solar_names_North = []\n",
    "    North = [x for x in list_country if x != 'CN']\n",
    "    for country in North :\n",
    "        name = \"Nb_solar_energy_innov_per_year_\" + country\n",
    "        column_solar_names_North.append(name)\n",
    "    solar_year['Nb_solar_energy_innov_per_year_North']= solar_year[column_solar_names_North].sum(axis=1)\n",
    "\n",
    "    \n",
    "    return solar_year"
   ]
  }
 ],
 "metadata": {
  "language_info": {
   "name": "python"
  },
  "orig_nbformat": 4
 },
 "nbformat": 4,
 "nbformat_minor": 2
}
