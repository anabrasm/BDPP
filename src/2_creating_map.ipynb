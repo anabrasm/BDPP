{
 "cells": [
  {
   "attachments": {},
   "cell_type": "markdown",
   "metadata": {},
   "source": [
    "# Playground"
   ]
  },
  {
   "cell_type": "code",
   "execution_count": 61,
   "metadata": {},
   "outputs": [],
   "source": [
    "import pandas as pd\n",
    "import feather\n",
    "import pycountry\n",
    "import dash\n",
    "from dash import dcc \n",
    "import dash_html_components as html\n",
    "from dash.dependencies import Input, Output\n",
    "import plotly.express as px"
   ]
  },
  {
   "cell_type": "code",
   "execution_count": 62,
   "metadata": {},
   "outputs": [],
   "source": [
    "# load feather file from input directory\n",
    "df = pd.read_feather('../input/df_2015')"
   ]
  },
  {
   "cell_type": "code",
   "execution_count": 63,
   "metadata": {},
   "outputs": [],
   "source": [
    "def alpha2_to_alpha3(alpha_2):\n",
    "    '''Converts ISO 2 country code to ISO 3 country code'''\n",
    "    country = pycountry.countries.get(alpha_2=alpha_2)\n",
    "    return country.alpha_3 if country else alpha_2"
   ]
  },
  {
   "cell_type": "code",
   "execution_count": 64,
   "metadata": {},
   "outputs": [],
   "source": [
    "## Adds country name to dataframe\n",
    "country_mapping = {country.alpha_3: country.name for country in pycountry.countries}"
   ]
  },
  {
   "cell_type": "code",
   "execution_count": 65,
   "metadata": {},
   "outputs": [],
   "source": [
    "df['Country'] = df['Country'].apply(alpha2_to_alpha3)"
   ]
  },
  {
   "cell_type": "code",
   "execution_count": 66,
   "metadata": {},
   "outputs": [],
   "source": [
    "df['Country_Name'] = df['Country'].map(country_mapping)"
   ]
  },
  {
   "cell_type": "code",
   "execution_count": 67,
   "metadata": {},
   "outputs": [
    {
     "name": "stdout",
     "output_type": "stream",
     "text": [
      "['ll' 'DD' 'EP']\n"
     ]
    }
   ],
   "source": [
    "not_converted = df[df['Country'].str.len() == 2]['Country'].unique()\n",
    "print(not_converted)\n",
    "\n",
    "# Drop rows where 'Country' column contains 2-letter codes\n",
    "df = df[df['Country'].str.len() != 2]"
   ]
  },
  {
   "cell_type": "code",
   "execution_count": 68,
   "metadata": {},
   "outputs": [],
   "source": [
    "# rename column earlist_year to year\n",
    "df.rename(columns={'earliest_filing_year': 'Year'}, inplace=True)"
   ]
  },
  {
   "cell_type": "code",
   "execution_count": 69,
   "metadata": {},
   "outputs": [],
   "source": [
    "# Retrieves alle ISO 3 country codes and country names from pycountry\n",
    "countries_df = pd.DataFrame({\n",
    "    'Country': [country.alpha_3 for country in pycountry.countries],\n",
    "    'Country_Name': [country.name for country in pycountry.countries]\n",
    "})"
   ]
  },
  {
   "cell_type": "code",
   "execution_count": 70,
   "metadata": {},
   "outputs": [],
   "source": [
    "# create a DataFrame that includes all years in your original dataset\n",
    "years_df = pd.DataFrame({'Year': df['Year'].unique()})"
   ]
  },
  {
   "cell_type": "code",
   "execution_count": 71,
   "metadata": {},
   "outputs": [],
   "source": [
    "# create a DataFrame that includes every combination of country and year.\n",
    "countries_years_df = pd.merge(\n",
    "    countries_df.assign(key=0),\n",
    "    years_df.assign(key=0),\n",
    "    on='key'\n",
    ").drop('key', axis=1)"
   ]
  },
  {
   "cell_type": "code",
   "execution_count": 73,
   "metadata": {},
   "outputs": [],
   "source": [
    "# merge this countries_years_df DataFrame with original df \n",
    "df = pd.merge(countries_years_df, df, on=['Country', 'Country_Name', 'Year'], how='outer')\n"
   ]
  },
  {
   "cell_type": "code",
   "execution_count": 74,
   "metadata": {},
   "outputs": [],
   "source": [
    "# Replace NaN values with 0\n",
    "df['ff'] = df['ff'].fillna(0)\n",
    "df['renewables'] = df['renewables'].fillna(0)\n"
   ]
  },
  {
   "cell_type": "code",
   "execution_count": 86,
   "metadata": {},
   "outputs": [
    {
     "data": {
      "text/html": [
       "\n",
       "        <iframe\n",
       "            width=\"100%\"\n",
       "            height=\"650\"\n",
       "            src=\"http://127.0.0.1:8050/\"\n",
       "            frameborder=\"0\"\n",
       "            allowfullscreen\n",
       "            \n",
       "        ></iframe>\n",
       "        "
      ],
      "text/plain": [
       "<IPython.lib.display.IFrame at 0x12d0c5a50>"
      ]
     },
     "metadata": {},
     "output_type": "display_data"
    },
    {
     "name": "stdout",
     "output_type": "stream",
     "text": [
      "The app is running at: http://localhost:8050\n"
     ]
    }
   ],
   "source": [
    "## Create a better color scale\n",
    "color_scale_renewables = [\n",
    "    (0.0, 'rgb(247,252,245)'),\n",
    "    (0.05, 'rgb(229,245,224)'),\n",
    "    (0.1, 'rgb(199,233,192)'),\n",
    "    (0.2, 'rgb(161,217,155)'),\n",
    "    (0.3, 'rgb(116,196,118)'),\n",
    "    (0.4, 'rgb(65,171,93)'),\n",
    "    (0.5, 'rgb(35,139,69)'),\n",
    "    (0.6, 'rgb(0,109,44)'),\n",
    "    (0.7, 'rgb(0,68,27)'),\n",
    "    (0.8, 'rgb(0,68,27)'),\n",
    "    (0.9, 'rgb(0,68,27)'),\n",
    "    (1.0, 'rgb(0,68,27)')  # Dark green for all values above 150\n",
    "]\n",
    "\n",
    "app = dash.Dash(__name__)\n",
    "\n",
    "app.layout = html.Div([\n",
    "    dcc.Dropdown(\n",
    "        id=\"type-selection\", \n",
    "        options=[\n",
    "            {\"label\": \"Fossil Fuel Energy Innovation\", \"value\": 'ff'},\n",
    "            {\"label\": \"Renewable Energy Innovation\", \"value\": 'renewables'}\n",
    "        ],\n",
    "        value='ff',\n",
    "        clearable=False\n",
    "    ),\n",
    "    dcc.Graph(id=\"world-map\", style={\"height\": \"800px\", \"width\": \"100%\"})  # Adjust the size here\n",
    "])\n",
    "\n",
    "\n",
    "@app.callback(\n",
    "    Output(\"world-map\", \"figure\"), \n",
    "    [Input(\"type-selection\", \"value\")]\n",
    ")\n",
    "def update_world_map(energy_type):\n",
    "    if energy_type == \"ff\":\n",
    "        color_scale = \"turbid\"  # brownish color scale for fossil fuels\n",
    "    else:\n",
    "        color_scale = color_scale_renewables  # custom green color scale for renewables\n",
    "    \n",
    "    fig = px.choropleth(\n",
    "        df, \n",
    "        locations=\"Country\", \n",
    "        color=energy_type, \n",
    "        hover_name=\"Country_Name\", \n",
    "        animation_frame=\"Year\",\n",
    "        projection=\"natural earth\",\n",
    "        color_continuous_scale=color_scale,\n",
    "        labels={energy_type: 'Number of Patents'}\n",
    "    )\n",
    "    return fig\n",
    "\n",
    "if __name__ == '__main__':\n",
    "    app.run_server(debug=True)\n",
    "    print(\"The app is running at: http://localhost:8050\")"
   ]
  },
  {
   "cell_type": "code",
   "execution_count": null,
   "metadata": {},
   "outputs": [],
   "source": []
  }
 ],
 "metadata": {
  "kernelspec": {
   "display_name": "BDPP-1rjj_tCr",
   "language": "python",
   "name": "python3"
  },
  "language_info": {
   "codemirror_mode": {
    "name": "ipython",
    "version": 3
   },
   "file_extension": ".py",
   "mimetype": "text/x-python",
   "name": "python",
   "nbconvert_exporter": "python",
   "pygments_lexer": "ipython3",
   "version": "3.10.6"
  },
  "orig_nbformat": 4
 },
 "nbformat": 4,
 "nbformat_minor": 2
}
