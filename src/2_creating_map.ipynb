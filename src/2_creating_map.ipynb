{
 "cells": [
  {
   "attachments": {},
   "cell_type": "markdown",
   "metadata": {},
   "source": [
    "# Playground"
   ]
  },
  {
   "cell_type": "code",
   "execution_count": 1089,
   "metadata": {},
   "outputs": [],
   "source": [
    "import pandas as pd\n",
    "import feather\n",
    "import pycountry\n",
    "import dash\n",
    "from dash.dependencies import Input, Output\n",
    "import plotly.express as px\n",
    "from dash import dcc, html, Input, Output, State\n",
    "import dash_bootstrap_components as dbc\n",
    "import plotly.graph_objects as go\n"
   ]
  },
  {
   "cell_type": "code",
   "execution_count": 1090,
   "metadata": {},
   "outputs": [],
   "source": [
    "# load feather file from input directory\n",
    "df = pd.read_feather('../input/df_allyears')"
   ]
  },
  {
   "cell_type": "code",
   "execution_count": 1091,
   "metadata": {},
   "outputs": [],
   "source": [
    "def alpha2_to_alpha3(alpha_2):\n",
    "    '''Converts ISO 2 country code to ISO 3 country code'''\n",
    "    country = pycountry.countries.get(alpha_2=alpha_2)\n",
    "    return country.alpha_3 if country else alpha_2"
   ]
  },
  {
   "cell_type": "code",
   "execution_count": 1092,
   "metadata": {},
   "outputs": [],
   "source": [
    "## Adds country name to dataframe\n",
    "country_mapping = {country.alpha_3: country.name for country in pycountry.countries}"
   ]
  },
  {
   "cell_type": "code",
   "execution_count": 1093,
   "metadata": {},
   "outputs": [],
   "source": [
    "df['Country'] = df['Country'].apply(alpha2_to_alpha3)"
   ]
  },
  {
   "cell_type": "code",
   "execution_count": 1094,
   "metadata": {},
   "outputs": [],
   "source": [
    "df['Country_Name'] = df['Country'].map(country_mapping)"
   ]
  },
  {
   "cell_type": "code",
   "execution_count": 1095,
   "metadata": {},
   "outputs": [
    {
     "name": "stdout",
     "output_type": "stream",
     "text": [
      "['AN' 'YU' 'CS' 'DD' 'OA' 'UK' 'EP']\n"
     ]
    }
   ],
   "source": [
    "not_converted = df[df['Country'].str.len() == 2]['Country'].unique()\n",
    "print(not_converted)\n",
    "\n",
    "# Drop rows where 'Country' column contains 2-letter codes\n",
    "df = df[df['Country'].str.len() != 2]"
   ]
  },
  {
   "cell_type": "code",
   "execution_count": 1096,
   "metadata": {},
   "outputs": [],
   "source": [
    "# rename column earlist_year to year\n",
    "df.rename(columns={'earliest_filing_year': 'Year'}, inplace=True)"
   ]
  },
  {
   "cell_type": "code",
   "execution_count": 1097,
   "metadata": {},
   "outputs": [],
   "source": [
    "# Retrieves alle ISO 3 country codes and country names from pycountry\n",
    "countries_df = pd.DataFrame({\n",
    "    'Country': [country.alpha_3 for country in pycountry.countries],\n",
    "    'Country_Name': [country.name for country in pycountry.countries]\n",
    "})"
   ]
  },
  {
   "cell_type": "code",
   "execution_count": 1098,
   "metadata": {},
   "outputs": [],
   "source": [
    "# create a DataFrame that includes all years in your original dataset\n",
    "years_df = pd.DataFrame({'Year': df['Year'].unique()})"
   ]
  },
  {
   "cell_type": "code",
   "execution_count": 1099,
   "metadata": {},
   "outputs": [],
   "source": [
    "# create a DataFrame that includes every combination of country and year.\n",
    "countries_years_df = pd.merge(\n",
    "    countries_df.assign(key=0),\n",
    "    years_df.assign(key=0),\n",
    "    on='key'\n",
    ").drop('key', axis=1)"
   ]
  },
  {
   "cell_type": "code",
   "execution_count": 1100,
   "metadata": {},
   "outputs": [],
   "source": [
    "# merge this countries_years_df DataFrame with original df \n",
    "df = pd.merge(countries_years_df, df, on=['Country', 'Country_Name', 'Year'], how='outer')\n"
   ]
  },
  {
   "cell_type": "code",
   "execution_count": 1101,
   "metadata": {},
   "outputs": [],
   "source": [
    "# Replace NaN values with 0\n",
    "df['ff'] = df['ff'].fillna(0)\n",
    "df['renewables'] = df['renewables'].fillna(0)\n",
    "df['share_renewables'] = df['share_renewables'].fillna(0)\n",
    "df['share_ff'] = df['share_ff'].fillna(0)\n"
   ]
  },
  {
   "cell_type": "code",
   "execution_count": 1102,
   "metadata": {},
   "outputs": [],
   "source": [
    "# Keep only data from the year 2000 to 2017\n",
    "df = df[df['Year'] >= 2000]\n",
    "df = df[df['Year'] <= 2017]\n"
   ]
  },
  {
   "cell_type": "code",
   "execution_count": 1103,
   "metadata": {},
   "outputs": [],
   "source": [
    "# Round share_ff and share_renewables to 2 decimals\n",
    "df['share_ff'] = df['share_ff'].round(2)\n",
    "df['share_renewables'] = df['share_renewables'].round(2)"
   ]
  },
  {
   "cell_type": "code",
   "execution_count": 1104,
   "metadata": {},
   "outputs": [
    {
     "data": {
      "text/html": [
       "\n",
       "        <iframe\n",
       "            width=\"100%\"\n",
       "            height=\"650\"\n",
       "            src=\"http://127.0.0.1:8050/\"\n",
       "            frameborder=\"0\"\n",
       "            allowfullscreen\n",
       "            \n",
       "        ></iframe>\n",
       "        "
      ],
      "text/plain": [
       "<IPython.lib.display.IFrame at 0x16b71f1f0>"
      ]
     },
     "metadata": {},
     "output_type": "display_data"
    },
    {
     "name": "stdout",
     "output_type": "stream",
     "text": [
      "The app is running at: http://localhost:8050\n"
     ]
    }
   ],
   "source": [
    "# Custom color scale\n",
    "color_scale_renewables = [\n",
    "    (0.0, 'rgb(211,211,211)'),  # Light grey for 0\n",
    "    (0.00001, 'rgb(229,245,224)'),  # Start shades of green for any value higher than 0\n",
    "    (0.1, 'rgb(199,233,192)'),\n",
    "    (0.2, 'rgb(161,217,155)'),\n",
    "    (0.3, 'rgb(116,196,118)'),\n",
    "    (0.4, 'rgb(65,171,93)'),\n",
    "    (0.5, 'rgb(35,139,69)'),\n",
    "    (0.6, 'rgb(0,109,44)'),\n",
    "    (0.7, 'rgb(0,68,27)'),\n",
    "    (0.8, 'rgb(0,68,27)'),\n",
    "    (0.9, 'rgb(0,68,27)'),\n",
    "    (1.0, 'rgb(0,68,27)')  # Dark green for all values above 150\n",
    "]\n",
    "\n",
    "color_scale_ff = [\n",
    "    (0.0, 'rgb(211,211,211)'),  # Light grey for 0\n",
    "    (0.00001, 'rgb(246,232,195)'),  # Very light beige\n",
    "    (0.1, 'rgb(223,194,125)'),\n",
    "    (0.2, 'rgb(191,129,45)'),\n",
    "    (0.3, 'rgb(141,109,49)'),\n",
    "    (0.4, 'rgb(140,81,10)'),\n",
    "    (0.5, 'rgb(129,89,23)'),\n",
    "    (0.6, 'rgb(103,65,15)'),\n",
    "    (0.7, 'rgb(80,50,20)'),\n",
    "    (0.8, 'rgb(60,38,22)'),\n",
    "    (0.9, 'rgb(40,25,15)'),\n",
    "    (1.0, 'rgb(20,10,5)')  # Dark brown for all values above 150\n",
    "]\n",
    "\n",
    "# app = dash.Dash(__name__)\n",
    "app = dash.Dash(__name__, external_stylesheets=[dbc.themes.BOOTSTRAP])\n",
    "\n",
    "app.layout = html.Div([\n",
    "    html.Header([\n",
    "        html.H1(\"Green Energy Innovation\"),\n",
    "        html.H5(\"Work by Theo, Ana, Carole\"),\n",
    "    ]),\n",
    "    html.Main([\n",
    "        html.P(\"Welcome to our page! Here, you can find different world maps that show the number of patents filed for renewable energy and fossil fuel energy innovations. You can also see the share of renewable energy innovations in the total number of innovations, and the share of fossil fuel energy innovations in the total number of innovations. You can select the year you want to see by using the slider below the maps. Scroll down for more information on data sources and variables!\"),\n",
    "\n",
    "        dcc.Dropdown(\n",
    "            id=\"type-selection\", \n",
    "            options=[\n",
    "                {\"label\": \"Fossil Fuel Energy Innovation\", \"value\": 'ff'},\n",
    "                {\"label\": \"Renewable Energy Innovation\", \"value\": 'renewables'},\n",
    "                {\"label\": \"Share of Fossil Fuel Innovations\", \"value\": 'share_ff'},\n",
    "                {\"label\": \"Share of Renewable Energy Innovations\", \"value\": 'share_renewables'}\n",
    "            ],\n",
    "            value='ff',\n",
    "            clearable=False,\n",
    "            className = \"dropdown\"\n",
    "        ),\n",
    "        dcc.Slider(\n",
    "            id='year-slider',\n",
    "            min=df['Year'].min(),\n",
    "            max=df['Year'].max(),\n",
    "            value=df['Year'].max(), # Set last year as the default value\n",
    "            marks={str(year): str(year) for year in df['Year'].unique()},\n",
    "            step=None\n",
    "        ),\n",
    "        dcc.Graph(id=\"world-map\", style={\"height\": \"800px\", \"width\": \"100%\"}),\n",
    "        dbc.Modal([\n",
    "            dbc.ModalHeader(id=\"modal-header\"),\n",
    "            dbc.ModalBody(dcc.Graph(id='country-trend')),\n",
    "        ], id=\"modal\", is_open=False),\n",
    "]),\n",
    "    html.Footer([\n",
    "        html.Div([\n",
    "            html.H4('Data Sources', className = 'footer-heading'),\n",
    "            html.P('PATSAT bla bla bla', className = 'footer-text'),\n",
    "        ], className = 'footer-column'),\n",
    "\n",
    "        html.Div([\n",
    "            html.H4('Explanation of Variables', className = 'footer-heading'),\n",
    "            html.P('Fossil Fuel Energy Innovation: bla bla bla'),\n",
    "            html.P('Renewable Energy Innovation: bla bla bla'),\n",
    "            html.P('Share of Fossil Fuel Innovations: bla bla bla'),\n",
    "            html.P('Share of Renewable Energy Innovations: bla bla bla'),\n",
    "        ], className = 'footer-column'),\n",
    "    ])\n",
    "\n",
    "])\n",
    "\n",
    "\n",
    "@app.callback(\n",
    "    Output(\"world-map\", \"figure\"), \n",
    "    [Input(\"type-selection\", \"value\"), Input('year-slider', 'value')]\n",
    ")\n",
    "def update_world_map(energy_type, selected_year):\n",
    "    dff = df[df['Year'] == selected_year]\n",
    "\n",
    "    if energy_type == \"ff\":\n",
    "        color_scale = color_scale_ff  # brownish color scale for fossil fuels\n",
    "    elif energy_type == \"renewables\":\n",
    "        color_scale = color_scale_renewables  # custom green color scale for renewables\n",
    "    elif energy_type == \"share_ff\":\n",
    "        color_scale = color_scale_ff  \n",
    "    elif energy_type == \"share_renewables\":\n",
    "        color_scale = color_scale_renewables  \n",
    "    else:\n",
    "        color_scale = px.colors.sequential.Plasma  # default color scale, you can choose any color scale here\n",
    "\n",
    "    # Define the label based on the energy type\n",
    "    if energy_type in [\"share_ff\", \"share_renewables\"]:\n",
    "        label = 'Share of Energy Patents'\n",
    "    else:\n",
    "        label = 'Number of Patents'\n",
    "\n",
    "    fig = px.choropleth(\n",
    "        dff, \n",
    "        locations=\"Country\", \n",
    "        color=energy_type, \n",
    "        hover_name=\"Country_Name\", \n",
    "        projection=\"natural earth\",\n",
    "        color_continuous_scale=color_scale,\n",
    "        labels={energy_type: label}  # use the dynamic label here\n",
    "    )\n",
    "\n",
    "    fig.update_layout(clickmode='event+select')  # Enable click events\n",
    "    return fig\n",
    "\n",
    "@app.callback(\n",
    "    [Output(\"modal\", \"is_open\"), Output(\"country-trend\", \"figure\"), Output(\"modal-header\", \"children\")],\n",
    "    [Input(\"world-map\", \"clickData\"), Input(\"type-selection\", \"value\")],\n",
    "    [State(\"modal\", \"is_open\")]\n",
    ")\n",
    "def update_country_trend(clickData, energy_type, is_open):\n",
    "    if clickData is None:\n",
    "        return is_open, go.Figure(), \"Country Trends\"\n",
    "\n",
    "    country_code = clickData['points'][0]['location']\n",
    "    dff = df[df.Country == country_code]\n",
    "    country_name = dff['Country_Name'].values[0]\n",
    "\n",
    "    energy_label_dict = {\n",
    "        'ff': 'Fossil Fuel Energy Innovation', \n",
    "        'renewables': 'Renewable Energy Innovation', \n",
    "        'share_ff': 'Share of Fossil Fuel Innovations', \n",
    "        'share_renewables': 'Share of Renewable Energy Innovations'\n",
    "    }\n",
    "    energy_label = energy_label_dict[energy_type]\n",
    "    \n",
    "    fig = go.Figure()\n",
    "    fig.add_trace(go.Scatter(x=dff[\"Year\"], y=dff[energy_type], mode='lines+markers', name=energy_label))\n",
    "    fig.update_layout(title_text=\"Time Trend of {}\".format(energy_label))\n",
    "    \n",
    "    return not is_open, fig, \"Time Trend of {} for {}\".format(energy_label, country_name)\n",
    "\n",
    "if __name__ == '__main__':\n",
    "    app.run_server(debug=True)\n",
    "    print(\"The app is running at: http://localhost:8050\")\n"
   ]
  },
  {
   "cell_type": "code",
   "execution_count": null,
   "metadata": {},
   "outputs": [],
   "source": []
  }
 ],
 "metadata": {
  "kernelspec": {
   "display_name": "BDPP-1rjj_tCr",
   "language": "python",
   "name": "python3"
  },
  "language_info": {
   "codemirror_mode": {
    "name": "ipython",
    "version": 3
   },
   "file_extension": ".py",
   "mimetype": "text/x-python",
   "name": "python",
   "nbconvert_exporter": "python",
   "pygments_lexer": "ipython3",
   "version": "3.10.6"
  },
  "orig_nbformat": 4
 },
 "nbformat": 4,
 "nbformat_minor": 2
}
