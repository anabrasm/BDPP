{
 "cells": [
  {
   "cell_type": "code",
   "execution_count": 1,
   "metadata": {},
   "outputs": [],
   "source": [
    "from dash import Dash, html, dcc, callback, Output, Input\n",
    "import plotly.express as px\n",
    "import requests\n",
    "import pandas as pd"
   ]
  },
  {
   "cell_type": "code",
   "execution_count": 2,
   "metadata": {},
   "outputs": [],
   "source": [
    "def load_SG_GEN_PARL(geoAreaCode):\n",
    "    assert isinstance(geoAreaCode, int)\n",
    "    url = f'https://unstats.un.org/sdgapi/v1/sdg/Series/SG_GEN_PARL/GeoArea/{geoAreaCode}/DataSlice'\n",
    "    response = requests.get(url)\n",
    "    data = response.json()['dimensions']\n",
    "    year = [int(data[i]['timePeriodStart']) for i in range(len(response.json()['dimensions']))]\n",
    "    prop_seats_women = [float(data[i]['value']) for i in range(len(response.json()['dimensions']))]\n",
    "    return pd.DataFrame(data={'year': year, 'prop_seats_women': prop_seats_women})"
   ]
  },
  {
   "cell_type": "code",
   "execution_count": 3,
   "metadata": {},
   "outputs": [
    {
     "data": {
      "text/html": [
       "<div>\n",
       "<style scoped>\n",
       "    .dataframe tbody tr th:only-of-type {\n",
       "        vertical-align: middle;\n",
       "    }\n",
       "\n",
       "    .dataframe tbody tr th {\n",
       "        vertical-align: top;\n",
       "    }\n",
       "\n",
       "    .dataframe thead th {\n",
       "        text-align: right;\n",
       "    }\n",
       "</style>\n",
       "<table border=\"1\" class=\"dataframe\">\n",
       "  <thead>\n",
       "    <tr style=\"text-align: right;\">\n",
       "      <th></th>\n",
       "      <th>year</th>\n",
       "      <th>prop_seats_women</th>\n",
       "    </tr>\n",
       "  </thead>\n",
       "  <tbody>\n",
       "    <tr>\n",
       "      <th>0</th>\n",
       "      <td>2003</td>\n",
       "      <td>15.12</td>\n",
       "    </tr>\n",
       "    <tr>\n",
       "      <th>1</th>\n",
       "      <td>2007</td>\n",
       "      <td>17.14</td>\n",
       "    </tr>\n",
       "    <tr>\n",
       "      <th>2</th>\n",
       "      <td>2004</td>\n",
       "      <td>15.21</td>\n",
       "    </tr>\n",
       "    <tr>\n",
       "      <th>3</th>\n",
       "      <td>2005</td>\n",
       "      <td>15.91</td>\n",
       "    </tr>\n",
       "    <tr>\n",
       "      <th>4</th>\n",
       "      <td>2001</td>\n",
       "      <td>13.79</td>\n",
       "    </tr>\n",
       "  </tbody>\n",
       "</table>\n",
       "</div>"
      ],
      "text/plain": [
       "   year  prop_seats_women\n",
       "0  2003             15.12\n",
       "1  2007             17.14\n",
       "2  2004             15.21\n",
       "3  2005             15.91\n",
       "4  2001             13.79"
      ]
     },
     "metadata": {},
     "output_type": "display_data"
    }
   ],
   "source": [
    "# testing the function\n",
    "display(load_SG_GEN_PARL(1).head())"
   ]
  },
  {
   "cell_type": "code",
   "execution_count": 4,
   "metadata": {},
   "outputs": [],
   "source": [
    "def load_geoArea_options():\n",
    "    url = f'https://unstats.un.org/sdgapi/v1/sdg/GeoArea/List'\n",
    "    response = requests.get(url)\n",
    "    options = response.json()\n",
    "    for opt in options:\n",
    "        opt['label'] = opt.pop('geoAreaName')\n",
    "        opt['value'] = opt.pop('geoAreaCode')\n",
    "    return options\n",
    "\n",
    "geoArea_options = load_geoArea_options()"
   ]
  },
  {
   "cell_type": "code",
   "execution_count": 5,
   "metadata": {},
   "outputs": [
    {
     "data": {
      "text/plain": [
       "[{'label': 'Afghanistan', 'value': '4'},\n",
       " {'label': 'Åland Islands', 'value': '248'},\n",
       " {'label': 'Albania', 'value': '8'},\n",
       " {'label': 'Algeria', 'value': '12'},\n",
       " {'label': 'American Samoa', 'value': '16'},\n",
       " {'label': 'Andorra', 'value': '20'},\n",
       " {'label': 'Angola', 'value': '24'},\n",
       " {'label': 'Anguilla', 'value': '660'},\n",
       " {'label': 'Antarctica', 'value': '10'},\n",
       " {'label': 'Antigua and Barbuda', 'value': '28'}]"
      ]
     },
     "execution_count": 5,
     "metadata": {},
     "output_type": "execute_result"
    }
   ],
   "source": [
    "# testing the function and creating the options\n",
    "geoArea_options = load_geoArea_options()\n",
    "geoArea_options[:10]"
   ]
  },
  {
   "cell_type": "code",
   "execution_count": 6,
   "metadata": {},
   "outputs": [
    {
     "data": {
      "text/html": [
       "\n",
       "        <iframe\n",
       "            width=\"100%\"\n",
       "            height=\"650\"\n",
       "            src=\"http://127.0.0.1:8049/\"\n",
       "            frameborder=\"0\"\n",
       "            allowfullscreen\n",
       "            \n",
       "        ></iframe>\n",
       "        "
      ],
      "text/plain": [
       "<IPython.lib.display.IFrame at 0x127d37fd0>"
      ]
     },
     "metadata": {},
     "output_type": "display_data"
    },
    {
     "name": "stderr",
     "output_type": "stream",
     "text": [
      "[2023-06-26 10:33:23,735] ERROR in app: Exception on /_dash-update-component [POST]\n",
      "Traceback (most recent call last):\n",
      "  File \"/Users/abrasm/.local/share/virtualenvs/BDPP-BtGq7L5S/lib/python3.10/site-packages/flask/app.py\", line 2529, in wsgi_app\n",
      "    response = self.full_dispatch_request()\n",
      "  File \"/Users/abrasm/.local/share/virtualenvs/BDPP-BtGq7L5S/lib/python3.10/site-packages/flask/app.py\", line 1825, in full_dispatch_request\n",
      "    rv = self.handle_user_exception(e)\n",
      "  File \"/Users/abrasm/.local/share/virtualenvs/BDPP-BtGq7L5S/lib/python3.10/site-packages/flask/app.py\", line 1823, in full_dispatch_request\n",
      "    rv = self.dispatch_request()\n",
      "  File \"/Users/abrasm/.local/share/virtualenvs/BDPP-BtGq7L5S/lib/python3.10/site-packages/flask/app.py\", line 1799, in dispatch_request\n",
      "    return self.ensure_sync(self.view_functions[rule.endpoint])(**view_args)\n",
      "  File \"/Users/abrasm/.local/share/virtualenvs/BDPP-BtGq7L5S/lib/python3.10/site-packages/dash/dash.py\", line 1258, in dispatch\n",
      "    ctx.run(\n",
      "  File \"/Users/abrasm/.local/share/virtualenvs/BDPP-BtGq7L5S/lib/python3.10/site-packages/dash/_callback.py\", line 450, in add_context\n",
      "    output_value = func(*func_args, **func_kwargs)  # %% callback invoked %%\n",
      "  File \"/var/folders/c9/20n96n6900d0kkmvh520dmdsj482n4/T/ipykernel_8994/2718169169.py\", line 16, in update_graph\n",
      "    df = load_SG_GEN_PARL(geoAreaCode=int(value))\n",
      "TypeError: int() argument must be a string, a bytes-like object or a real number, not 'NoneType'\n"
     ]
    }
   ],
   "source": [
    "app = Dash(__name__)\n",
    "\n",
    "app.layout = html.Div([\n",
    "    html.H1(children='My Dash App', style={'textAlign':'center'}),\n",
    "    dcc.Dropdown(options=geoArea_options, \n",
    "                 value='1', \n",
    "                 id='dropdown-selection'),\n",
    "    dcc.Graph(id='graph-content')\n",
    "])\n",
    "\n",
    "@callback(\n",
    "    Output('graph-content', 'figure'),\n",
    "    Input('dropdown-selection', 'value')\n",
    ")\n",
    "def update_graph(value):\n",
    "    df = load_SG_GEN_PARL(geoAreaCode=int(value))\n",
    "    return px.scatter(df, x='year', y='prop_seats_women')\n",
    "\n",
    "if __name__ == '__main__':\n",
    "    app.run_server(debug=False, port=8049, use_reloader=False)"
   ]
  },
  {
   "cell_type": "code",
   "execution_count": null,
   "metadata": {},
   "outputs": [],
   "source": []
  }
 ],
 "metadata": {
  "kernelspec": {
   "display_name": "BDPP-BtGq7L5S",
   "language": "python",
   "name": "python3"
  },
  "language_info": {
   "codemirror_mode": {
    "name": "ipython",
    "version": 3
   },
   "file_extension": ".py",
   "mimetype": "text/x-python",
   "name": "python",
   "nbconvert_exporter": "python",
   "pygments_lexer": "ipython3",
   "version": "3.10.6"
  },
  "orig_nbformat": 4
 },
 "nbformat": 4,
 "nbformat_minor": 2
}
